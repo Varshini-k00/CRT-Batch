{
  "nbformat": 4,
  "nbformat_minor": 0,
  "metadata": {
    "colab": {
      "name": "Day 3",
      "provenance": [],
      "collapsed_sections": []
    },
    "kernelspec": {
      "name": "python3",
      "display_name": "Python 3"
    }
  },
  "cells": [
    {
      "cell_type": "markdown",
      "metadata": {
        "id": "_H_qPCUodji7",
        "colab_type": "text"
      },
      "source": [
        "## Function:\n",
        "  - def functionname(arguments):\n",
        "        statements\n",
        "        "
      ]
    },
    {
      "cell_type": "code",
      "metadata": {
        "id": "x_tQHwzFeBGw",
        "colab_type": "code",
        "colab": {
          "base_uri": "https://localhost:8080/",
          "height": 52
        },
        "outputId": "b5b6ff1f-7993-483f-e3cf-be166af18885"
      },
      "source": [
        "#sum of even number digits in a given number\n",
        "n= int(input(\"enter the value of n\"))\n",
        "def evendigitsum(n):\n",
        "  s=0\n",
        "  while n!=0:\n",
        "    r=n%10\n",
        "    if(r%2==0):\n",
        "      s=s+r\n",
        "    n=n//10\n",
        "  print(s)#temporarly stores the value and on future reference it doesnt work\n",
        "\n",
        "evendigitsum(n)\n"
      ],
      "execution_count": 4,
      "outputs": [
        {
          "output_type": "stream",
          "text": [
            "enter the value of n1234\n"
          ],
          "name": "stdout"
        },
        {
          "output_type": "execute_result",
          "data": {
            "text/plain": [
              "6"
            ]
          },
          "metadata": {
            "tags": []
          },
          "execution_count": 4
        }
      ]
    },
    {
      "cell_type": "code",
      "metadata": {
        "id": "LQUm5_oufQYS",
        "colab_type": "code",
        "colab": {
          "base_uri": "https://localhost:8080/",
          "height": 52
        },
        "outputId": "dd051128-5c50-45e8-a99e-5baca8f3bf15"
      },
      "source": [
        "#find max value digit of the guven number\n",
        "n=int(input(\"enter n value\"))\n",
        "def MaxDigit(n):\n",
        "  max=0\n",
        "  while n!=0:\n",
        "    r=n%10\n",
        "    if(r>max):\n",
        "      max=r\n",
        "    n=n//10\n",
        "  return max#return allocates memory and stores the value and on future reference it reutrns the value of the variable\n",
        "\n",
        "y=maxdigit(n)"
      ],
      "execution_count": 3,
      "outputs": [
        {
          "output_type": "stream",
          "text": [
            "enter n value19535\n",
            "9\n"
          ],
          "name": "stdout"
        }
      ]
    },
    {
      "cell_type": "code",
      "metadata": {
        "id": "zalo3TT-gG5t",
        "colab_type": "code",
        "colab": {}
      },
      "source": [
        "#factorial\n",
        "#strong number\n",
        "#palindrome\n"
      ],
      "execution_count": 0,
      "outputs": []
    },
    {
      "cell_type": "markdown",
      "metadata": {
        "id": "w1MGKuvoiotc",
        "colab_type": "text"
      },
      "source": [
        "### Collection types:\n",
        "  - 1.list\n",
        "  - 2.tuple\n",
        "  - 3.set\n",
        "  - 4.dictionary\n",
        "- Data Structures avaiable in python"
      ]
    },
    {
      "cell_type": "markdown",
      "metadata": {
        "id": "w9zvgrctjIXw",
        "colab_type": "text"
      },
      "source": [
        "## List\n",
        "- One of the DataStructures available in python\n",
        "- List is enclosed in []\n",
        "- Elements in a list are seperated by comma(,)\n",
        "- elements have both positive and negtive indexing\n",
        "- positive indexing starts from first element as 0 and form the last negative index will be -1"
      ]
    },
    {
      "cell_type": "code",
      "metadata": {
        "id": "FRBltdmwinNU",
        "colab_type": "code",
        "colab": {
          "base_uri": "https://localhost:8080/",
          "height": 52
        },
        "outputId": "339ec871-e1e8-40b8-b722-7c537374ed8e"
      },
      "source": [
        "list1=[1,4,2,3]\n",
        "print(list1)\n",
        "type(list1)"
      ],
      "execution_count": 7,
      "outputs": [
        {
          "output_type": "stream",
          "text": [
            "[1, 4, 2, 3]\n"
          ],
          "name": "stdout"
        },
        {
          "output_type": "execute_result",
          "data": {
            "text/plain": [
              "list"
            ]
          },
          "metadata": {
            "tags": []
          },
          "execution_count": 7
        }
      ]
    },
    {
      "cell_type": "code",
      "metadata": {
        "id": "KRBp-Y1qlckw",
        "colab_type": "code",
        "colab": {
          "base_uri": "https://localhost:8080/",
          "height": 139
        },
        "outputId": "e0e0a749-4cc9-46ca-ba78-10e9a93c8f1e"
      },
      "source": [
        "l=[1,4,6,3,8]\n",
        "print(l[-1])\n",
        "print(l[-3])\n",
        "print(l[2:4])#accessing elements from index 2 to index 3\n",
        "print(l[0:4:2])\n",
        "print(l[0:-2])\n",
        "print(l[-1:])\n",
        "print(l[-3:])"
      ],
      "execution_count": 10,
      "outputs": [
        {
          "output_type": "stream",
          "text": [
            "8\n",
            "6\n",
            "[6, 3]\n",
            "[1, 6]\n",
            "[1, 4, 6]\n",
            "[8]\n",
            "[6, 3, 8]\n"
          ],
          "name": "stdout"
        }
      ]
    },
    {
      "cell_type": "code",
      "metadata": {
        "id": "IwR0tEKNnlAZ",
        "colab_type": "code",
        "colab": {
          "base_uri": "https://localhost:8080/",
          "height": 156
        },
        "outputId": "6725822b-5642-4dd4-8ad0-751469e94d33"
      },
      "source": [
        "##Basic functions of list:\n",
        "l=[2,3,6,8,4]\n",
        "l1=['a','e','f']\n",
        "print(max(l))\n",
        "print(min(l))\n",
        "print(sum(l))\n",
        "print(len(l1))\n",
        "print(sum(l)/len(l))\n",
        "l[0]='GITAM'\n",
        "l[3]='Psyduck'\n",
        "print(l)\n",
        "del l[1]\n",
        "print(l)\n",
        "l"
      ],
      "execution_count": 17,
      "outputs": [
        {
          "output_type": "stream",
          "text": [
            "8\n",
            "2\n",
            "23\n",
            "3\n",
            "4.6\n",
            "['GITAM', 3, 6, 'Psyduck', 4]\n",
            "['GITAM', 6, 'Psyduck', 4]\n"
          ],
          "name": "stdout"
        },
        {
          "output_type": "execute_result",
          "data": {
            "text/plain": [
              "['GITAM', 6, 'Psyduck', 4]"
            ]
          },
          "metadata": {
            "tags": []
          },
          "execution_count": 17
        }
      ]
    },
    {
      "cell_type": "code",
      "metadata": {
        "id": "OW1TrF5ztqWX",
        "colab_type": "code",
        "colab": {
          "base_uri": "https://localhost:8080/",
          "height": 87
        },
        "outputId": "695d728e-b286-4cad-bb86-01a25074e64f"
      },
      "source": [
        "l=[3,5,7,2,9]\n",
        "print(l*2) # repetition operation \n",
        "# to check certain value exists in the list or \n",
        "print(2 in l)\n",
        "print(4 in l)\n",
        "print(10 in l)"
      ],
      "execution_count": 20,
      "outputs": [
        {
          "output_type": "stream",
          "text": [
            "[3, 5, 7, 2, 9, 3, 5, 7, 2, 9]\n",
            "True\n",
            "False\n",
            "False\n"
          ],
          "name": "stdout"
        }
      ]
    },
    {
      "cell_type": "code",
      "metadata": {
        "id": "xeKstg_3ukmq",
        "colab_type": "code",
        "colab": {
          "base_uri": "https://localhost:8080/",
          "height": 121
        },
        "outputId": "666d6df5-fd94-4f7d-ad94-ec2c60e953bc"
      },
      "source": [
        "print(l)\n",
        "for i in l:\n",
        "  print(i)"
      ],
      "execution_count": 22,
      "outputs": [
        {
          "output_type": "stream",
          "text": [
            "[3, 5, 7, 2, 9]\n",
            "3\n",
            "5\n",
            "7\n",
            "2\n",
            "9\n"
          ],
          "name": "stdout"
        }
      ]
    },
    {
      "cell_type": "code",
      "metadata": {
        "id": "AXpcdfIPvKPx",
        "colab_type": "code",
        "colab": {
          "base_uri": "https://localhost:8080/",
          "height": 104
        },
        "outputId": "8084faa5-2b0c-4cd5-921b-c2682e3af0f2"
      },
      "source": [
        "for i in [2,6,4,26,0]:\n",
        "  print(i)"
      ],
      "execution_count": 23,
      "outputs": [
        {
          "output_type": "stream",
          "text": [
            "2\n",
            "6\n",
            "4\n",
            "26\n",
            "0\n"
          ],
          "name": "stdout"
        }
      ]
    },
    {
      "cell_type": "code",
      "metadata": {
        "id": "fIwh6vOrvfiE",
        "colab_type": "code",
        "colab": {
          "base_uri": "https://localhost:8080/",
          "height": 104
        },
        "outputId": "ca1c6102-6abf-4e02-dbcd-18b4950198b3"
      },
      "source": [
        "for i in range(len(l)):\n",
        "  print(l[i])"
      ],
      "execution_count": 25,
      "outputs": [
        {
          "output_type": "stream",
          "text": [
            "3\n",
            "5\n",
            "7\n",
            "2\n",
            "9\n"
          ],
          "name": "stdout"
        }
      ]
    },
    {
      "cell_type": "code",
      "metadata": {
        "id": "AwAsIc_ZwhP7",
        "colab_type": "code",
        "colab": {
          "base_uri": "https://localhost:8080/",
          "height": 35
        },
        "outputId": "c3e66bc9-6e0e-4fdb-ce56-a573747f501b"
      },
      "source": [
        "#list methods\n",
        "l=[65,4,3,78,1,9,0,4]\n",
        "l.append(\"pikachu\")\n",
        "l\n",
        "l.insert(2,\"pichu\")\n",
        "l\n",
        "l.count(4)\n",
        "l.pop()\n",
        "l.extend(l1)\n",
        "l"
      ],
      "execution_count": 35,
      "outputs": [
        {
          "output_type": "execute_result",
          "data": {
            "text/plain": [
              "[65, 4, 'pichu', 3, 78, 1, 9, 0, 4, 'a', 'e', 'f']"
            ]
          },
          "metadata": {
            "tags": []
          },
          "execution_count": 35
        }
      ]
    },
    {
      "cell_type": "code",
      "metadata": {
        "id": "geHp5pubzwM6",
        "colab_type": "code",
        "colab": {
          "base_uri": "https://localhost:8080/",
          "height": 52
        },
        "outputId": "85864a51-5d73-42fa-e0cc-94a32339b8b1"
      },
      "source": [
        "li=[95,4,23,56,5,6,3]\n",
        "li.sort()\n",
        "print(li)\n",
        "li.reverse()\n",
        "print(li)"
      ],
      "execution_count": 38,
      "outputs": [
        {
          "output_type": "stream",
          "text": [
            "[3, 4, 5, 6, 23, 56, 95]\n",
            "[95, 56, 23, 6, 5, 4, 3]\n"
          ],
          "name": "stdout"
        }
      ]
    },
    {
      "cell_type": "code",
      "metadata": {
        "id": "N8gUNvre0wdp",
        "colab_type": "code",
        "colab": {
          "base_uri": "https://localhost:8080/",
          "height": 270
        },
        "outputId": "37b8fad8-c6f5-4fed-c3bc-4627850fbf8b"
      },
      "source": [
        "#function to print the biggest number fro the list\n",
        "n=int(input(\"the list is\"))\n",
        "lst=[]\n",
        "for i in range(0,n):\n",
        "  ele=int(input())\n",
        "\n",
        "  lst.append(ele)\n",
        "print(lst)"
      ],
      "execution_count": 46,
      "outputs": [
        {
          "output_type": "stream",
          "text": [
            "the list is6\n",
            "9,8,65,0,4,1\n"
          ],
          "name": "stdout"
        },
        {
          "output_type": "error",
          "ename": "ValueError",
          "evalue": "ignored",
          "traceback": [
            "\u001b[0;31m---------------------------------------------------------------------------\u001b[0m",
            "\u001b[0;31mValueError\u001b[0m                                Traceback (most recent call last)",
            "\u001b[0;32m<ipython-input-46-8defb2385691>\u001b[0m in \u001b[0;36m<module>\u001b[0;34m()\u001b[0m\n\u001b[1;32m      2\u001b[0m \u001b[0mlst\u001b[0m\u001b[0;34m=\u001b[0m\u001b[0;34m[\u001b[0m\u001b[0;34m]\u001b[0m\u001b[0;34m\u001b[0m\u001b[0;34m\u001b[0m\u001b[0m\n\u001b[1;32m      3\u001b[0m \u001b[0;32mfor\u001b[0m \u001b[0mi\u001b[0m \u001b[0;32min\u001b[0m \u001b[0mrange\u001b[0m\u001b[0;34m(\u001b[0m\u001b[0;36m0\u001b[0m\u001b[0;34m,\u001b[0m\u001b[0mn\u001b[0m\u001b[0;34m)\u001b[0m\u001b[0;34m:\u001b[0m\u001b[0;34m\u001b[0m\u001b[0;34m\u001b[0m\u001b[0m\n\u001b[0;32m----> 4\u001b[0;31m   \u001b[0mele\u001b[0m\u001b[0;34m=\u001b[0m\u001b[0mint\u001b[0m\u001b[0;34m(\u001b[0m\u001b[0minput\u001b[0m\u001b[0;34m(\u001b[0m\u001b[0;34m)\u001b[0m\u001b[0;34m)\u001b[0m\u001b[0;34m\u001b[0m\u001b[0;34m\u001b[0m\u001b[0m\n\u001b[0m\u001b[1;32m      5\u001b[0m \u001b[0;34m\u001b[0m\u001b[0m\n\u001b[1;32m      6\u001b[0m   \u001b[0mlst\u001b[0m\u001b[0;34m.\u001b[0m\u001b[0mappend\u001b[0m\u001b[0;34m(\u001b[0m\u001b[0mele\u001b[0m\u001b[0;34m)\u001b[0m\u001b[0;34m\u001b[0m\u001b[0;34m\u001b[0m\u001b[0m\n",
            "\u001b[0;31mValueError\u001b[0m: invalid literal for int() with base 10: '9,8,65,0,4,1'"
          ]
        }
      ]
    },
    {
      "cell_type": "markdown",
      "metadata": {
        "id": "vPuJk9yk3Qcg",
        "colab_type": "text"
      },
      "source": [
        "# Tuple:\n",
        "- Tuples are enclosed in paranthesis()\n",
        "- Tuples are immutable i.e, elements inside a tuple can't be deleted\n",
        "- Modifications are not possible in tuple\n",
        "- Tuples are used to access the data\n",
        "## Difference between list and tuples:\n",
        "- list----->[], tuples---->()\n",
        "- List is mutable(can be changed), tuples are immutable.\n"
      ]
    },
    {
      "cell_type": "code",
      "metadata": {
        "id": "bzFoWCjR5GA0",
        "colab_type": "code",
        "colab": {
          "base_uri": "https://localhost:8080/",
          "height": 69
        },
        "outputId": "dd14f44f-4c5d-4607-f0f4-1f87bdc48dea"
      },
      "source": [
        "t1=(3,5,'y',10.5,9)\n",
        "print(t1)\n",
        "print(type(t1))\n",
        "t1[0:2]"
      ],
      "execution_count": 47,
      "outputs": [
        {
          "output_type": "stream",
          "text": [
            "(3, 5, 'y', 10.5, 9)\n",
            "<class 'tuple'>\n"
          ],
          "name": "stdout"
        },
        {
          "output_type": "execute_result",
          "data": {
            "text/plain": [
              "(3, 5)"
            ]
          },
          "metadata": {
            "tags": []
          },
          "execution_count": 47
        }
      ]
    },
    {
      "cell_type": "markdown",
      "metadata": {
        "id": "Rr2gB65P8PJZ",
        "colab_type": "text"
      },
      "source": [
        "# Dictionary:\n",
        "- enclosed in{}\n",
        "-consists of key value pairs\n",
        "- each key is seperatednto its value by colon(:)\n",
        "- each key value pair is seperated by comma(,)\n",
        "- keys must be unique while creating a dictionary"
      ]
    },
    {
      "cell_type": "code",
      "metadata": {
        "id": "kiZmOyQw85Rh",
        "colab_type": "code",
        "colab": {
          "base_uri": "https://localhost:8080/",
          "height": 52
        },
        "outputId": "8fbd46bd-b4c6-4d39-cf49-f5bbab7eb404"
      },
      "source": [
        "d1={\"name\":\"GITAM\",\"email\":\"abc@gmail.com\",\"place\":\"Hyderabad\"}\n",
        "print(d1)\n",
        "print(type(d1))"
      ],
      "execution_count": 48,
      "outputs": [
        {
          "output_type": "stream",
          "text": [
            "{'name': 'GITAM', 'email': 'abc@gmail.com', 'place': 'Hyderabad'}\n",
            "<class 'dict'>\n"
          ],
          "name": "stdout"
        }
      ]
    },
    {
      "cell_type": "code",
      "metadata": {
        "id": "bueqYr589R69",
        "colab_type": "code",
        "colab": {
          "base_uri": "https://localhost:8080/",
          "height": 35
        },
        "outputId": "4feeae96-9668-404e-b681-6400c812a840"
      },
      "source": [
        "d1['name']\n",
        "d1[\"email\"]=\"xyz@gmail.com\"\n",
        "d1"
      ],
      "execution_count": 51,
      "outputs": [
        {
          "output_type": "execute_result",
          "data": {
            "text/plain": [
              "{'email': 'xyz@gmail.com', 'name': 'GITAM', 'place': 'Hyderabad'}"
            ]
          },
          "metadata": {
            "tags": []
          },
          "execution_count": 51
        }
      ]
    },
    {
      "cell_type": "code",
      "metadata": {
        "id": "fGJSpcuy9oYY",
        "colab_type": "code",
        "colab": {
          "base_uri": "https://localhost:8080/",
          "height": 87
        },
        "outputId": "d6732e78-4a8d-4bb1-a1dc-a29b687338b6"
      },
      "source": [
        "d1[\"course\"]=\"Python\"\n",
        "d1"
      ],
      "execution_count": 53,
      "outputs": [
        {
          "output_type": "execute_result",
          "data": {
            "text/plain": [
              "{'course': 'Python',\n",
              " 'email': 'xyz@gmail.com',\n",
              " 'name': 'GITAM',\n",
              " 'place': 'Hyderabad'}"
            ]
          },
          "metadata": {
            "tags": []
          },
          "execution_count": 53
        }
      ]
    },
    {
      "cell_type": "code",
      "metadata": {
        "id": "JwskZEoK91px",
        "colab_type": "code",
        "colab": {}
      },
      "source": [
        "del d1['course']"
      ],
      "execution_count": 0,
      "outputs": []
    },
    {
      "cell_type": "code",
      "metadata": {
        "id": "3Db6L4uh96_e",
        "colab_type": "code",
        "colab": {
          "base_uri": "https://localhost:8080/",
          "height": 35
        },
        "outputId": "a6338f36-a941-4f7c-c46d-ada3d4cb2c21"
      },
      "source": [
        "d1.keys()"
      ],
      "execution_count": 56,
      "outputs": [
        {
          "output_type": "execute_result",
          "data": {
            "text/plain": [
              "dict_keys(['name', 'email', 'place'])"
            ]
          },
          "metadata": {
            "tags": []
          },
          "execution_count": 56
        }
      ]
    },
    {
      "cell_type": "code",
      "metadata": {
        "id": "L98FAjmU-okM",
        "colab_type": "code",
        "colab": {
          "base_uri": "https://localhost:8080/",
          "height": 35
        },
        "outputId": "952aae34-962c-49bb-9d8d-bb3b52182378"
      },
      "source": [
        "d1.values()"
      ],
      "execution_count": 58,
      "outputs": [
        {
          "output_type": "execute_result",
          "data": {
            "text/plain": [
              "dict_values(['GITAM', 'xyz@gmail.com', 'Hyderabad'])"
            ]
          },
          "metadata": {
            "tags": []
          },
          "execution_count": 58
        }
      ]
    },
    {
      "cell_type": "code",
      "metadata": {
        "id": "0O5FfBTr-v3K",
        "colab_type": "code",
        "colab": {
          "base_uri": "https://localhost:8080/",
          "height": 35
        },
        "outputId": "da7673ca-e93c-44a7-da12-b9f8388c98f3"
      },
      "source": [
        "d1"
      ],
      "execution_count": 59,
      "outputs": [
        {
          "output_type": "execute_result",
          "data": {
            "text/plain": [
              "{'email': 'xyz@gmail.com', 'name': 'GITAM', 'place': 'Hyderabad'}"
            ]
          },
          "metadata": {
            "tags": []
          },
          "execution_count": 59
        }
      ]
    },
    {
      "cell_type": "code",
      "metadata": {
        "id": "mEr0zETO_7H_",
        "colab_type": "code",
        "colab": {
          "base_uri": "https://localhost:8080/",
          "height": 35
        },
        "outputId": "ca8b9c64-55ce-4cf8-8a63-a8e92e6b8b25"
      },
      "source": [
        "dict1={'NAME':'GITAM','Email':'abc@gmail.com','Address':'Hyderabad','NAME':'ABC'}\n",
        "print(dict1)"
      ],
      "execution_count": 62,
      "outputs": [
        {
          "output_type": "stream",
          "text": [
            "{'NAME': 'ABC', 'Email': 'abc@gmail.com', 'Address': 'Hyderabad'}\n"
          ],
          "name": "stdout"
        }
      ]
    },
    {
      "cell_type": "markdown",
      "metadata": {
        "id": "qrAynXgWAslM",
        "colab_type": "text"
      },
      "source": [
        "# Strings"
      ]
    },
    {
      "cell_type": "code",
      "metadata": {
        "id": "iNJv8vZ3_9Da",
        "colab_type": "code",
        "colab": {
          "base_uri": "https://localhost:8080/",
          "height": 121
        },
        "outputId": "75c4ac77-7031-4666-d161-3587d2e6c6ae"
      },
      "source": [
        "s='Python'\n",
        "print(s[0])\n",
        "print(s[0:3])\n",
        "print(s[0:4:2])\n",
        "print(s[0:-4])\n",
        "print(s[::2])\n",
        "print(s[::-1])"
      ],
      "execution_count": 68,
      "outputs": [
        {
          "output_type": "stream",
          "text": [
            "P\n",
            "Pyt\n",
            "Pt\n",
            "Py\n",
            "Pto\n",
            "nohtyP\n"
          ],
          "name": "stdout"
        }
      ]
    },
    {
      "cell_type": "code",
      "metadata": {
        "id": "tdP2dU7ICEL7",
        "colab_type": "code",
        "colab": {
          "base_uri": "https://localhost:8080/",
          "height": 131
        },
        "outputId": "3846fcd7-7512-4266-991e-6959b07f8d52"
      },
      "source": [
        "#to check if the given string is palindrome\n",
        "def palin(n1)\n",
        "if(s==s[::-1]):\n",
        "  print(\"palindrome\")\n",
        "else:\n",
        "  print(\"not a palindrome\")\n",
        "\n",
        "palin('mom')"
      ],
      "execution_count": 77,
      "outputs": [
        {
          "output_type": "error",
          "ename": "SyntaxError",
          "evalue": "ignored",
          "traceback": [
            "\u001b[0;36m  File \u001b[0;32m\"<ipython-input-77-6fd00399ed54>\"\u001b[0;36m, line \u001b[0;32m1\u001b[0m\n\u001b[0;31m    def palin(n1)\u001b[0m\n\u001b[0m                 ^\u001b[0m\n\u001b[0;31mSyntaxError\u001b[0m\u001b[0;31m:\u001b[0m invalid syntax\n"
          ]
        }
      ]
    },
    {
      "cell_type": "markdown",
      "metadata": {
        "id": "hZKHdYGrEbjn",
        "colab_type": "text"
      },
      "source": [
        "#string methods:\n",
        "- join() method to concatenate\n",
        "- split() displayed in the form of list"
      ]
    },
    {
      "cell_type": "code",
      "metadata": {
        "id": "OM8swYlBD_ep",
        "colab_type": "code",
        "colab": {
          "base_uri": "https://localhost:8080/",
          "height": 35
        },
        "outputId": "5964e01f-30ad-48ab-99da-e6360c8f2416"
      },
      "source": [
        "s\n",
        "print(\" \".join(s))"
      ],
      "execution_count": 80,
      "outputs": [
        {
          "output_type": "stream",
          "text": [
            "P y t h o n\n"
          ],
          "name": "stdout"
        }
      ]
    },
    {
      "cell_type": "code",
      "metadata": {
        "id": "bZN5RZlrEOiW",
        "colab_type": "code",
        "colab": {
          "base_uri": "https://localhost:8080/",
          "height": 35
        },
        "outputId": "2512ca06-d576-461a-bba4-e34c596b5794"
      },
      "source": [
        "s1=\"python is easy\"\n",
        "print(s1.split('a'))"
      ],
      "execution_count": 82,
      "outputs": [
        {
          "output_type": "stream",
          "text": [
            "['python is e', 'sy']\n"
          ],
          "name": "stdout"
        }
      ]
    },
    {
      "cell_type": "code",
      "metadata": {
        "id": "TZ-wq4uzE9QQ",
        "colab_type": "code",
        "colab": {
          "base_uri": "https://localhost:8080/",
          "height": 35
        },
        "outputId": "af75f691-7106-4a28-ba0c-932355800327"
      },
      "source": [
        "s2=\"python programming\"\n",
        "print(s2.split())"
      ],
      "execution_count": 87,
      "outputs": [
        {
          "output_type": "stream",
          "text": [
            "['python', 'programming']\n"
          ],
          "name": "stdout"
        }
      ]
    },
    {
      "cell_type": "code",
      "metadata": {
        "id": "FyE1fZqtFHYM",
        "colab_type": "code",
        "colab": {
          "base_uri": "https://localhost:8080/",
          "height": 35
        },
        "outputId": "dc85c88f-954a-4ea8-f557-f2a72586de91"
      },
      "source": [
        "s2\n",
        "print(s2.replace(\"programming\",\"application\"))"
      ],
      "execution_count": 88,
      "outputs": [
        {
          "output_type": "stream",
          "text": [
            "python application\n"
          ],
          "name": "stdout"
        }
      ]
    }
  ]
}