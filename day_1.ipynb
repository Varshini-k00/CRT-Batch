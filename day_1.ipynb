{
  "nbformat": 4,
  "nbformat_minor": 0,
  "metadata": {
    "colab": {
      "name": "day 1",
      "provenance": [],
      "collapsed_sections": []
    },
    "kernelspec": {
      "name": "python3",
      "display_name": "Python 3"
    }
  },
  "cells": [
    {
      "cell_type": "code",
      "metadata": {
        "id": "FrRxk7-ESK9q",
        "colab_type": "code",
        "outputId": "240cec95-726c-42a8-d85a-6098932abda7",
        "colab": {
          "base_uri": "https://localhost:8080/",
          "height": 69
        }
      },
      "source": [
        "a=\"100\"\n",
        "print(type(a))\n",
        "b=float(a)\n",
        "print(type(b))\n",
        "print(b)"
      ],
      "execution_count": 0,
      "outputs": [
        {
          "output_type": "stream",
          "text": [
            "<class 'str'>\n",
            "<class 'float'>\n",
            "100.0\n"
          ],
          "name": "stdout"
        }
      ]
    },
    {
      "cell_type": "markdown",
      "metadata": {
        "id": "QQOtepKhSzmT",
        "colab_type": "text"
      },
      "source": [
        "#operators:\n",
        "#### 1.Arithmetic Operators:+,-,*,/,%,//,**\n",
        "#### 2.Logical Operators:&,|,!\n",
        "#### 3.Relational opeartors:<,>,<=,>=,==,!=\n",
        "#### 4. Membership Operators: in and not in"
      ]
    },
    {
      "cell_type": "code",
      "metadata": {
        "id": "kedY24vwTl4D",
        "colab_type": "code",
        "outputId": "36f9caf1-a7bd-437d-8db0-d61de2c7912d",
        "colab": {
          "base_uri": "https://localhost:8080/",
          "height": 35
        }
      },
      "source": [
        "x=3\n",
        "y=5\n",
        "x+y"
      ],
      "execution_count": 0,
      "outputs": [
        {
          "output_type": "execute_result",
          "data": {
            "text/plain": [
              "8"
            ]
          },
          "metadata": {
            "tags": []
          },
          "execution_count": 3
        }
      ]
    },
    {
      "cell_type": "code",
      "metadata": {
        "id": "V5rwgorjULHn",
        "colab_type": "code",
        "outputId": "018886d6-c71b-4bf7-ce12-ecd4852d4752",
        "colab": {
          "base_uri": "https://localhost:8080/",
          "height": 139
        }
      },
      "source": [
        "x=9\n",
        "y=3\n",
        "print(x+y)\n",
        "print(x-y)\n",
        "print(x/y)\n",
        "print(x*y)\n",
        "print(x%y)\n",
        "print(x//y)\n",
        "print(x**y)"
      ],
      "execution_count": 0,
      "outputs": [
        {
          "output_type": "stream",
          "text": [
            "12\n",
            "6\n",
            "3.0\n",
            "27\n",
            "0\n",
            "3\n",
            "729\n"
          ],
          "name": "stdout"
        }
      ]
    },
    {
      "cell_type": "code",
      "metadata": {
        "id": "Lzk5k0NeWIxO",
        "colab_type": "code",
        "outputId": "196a8e6e-2920-44bc-e85e-39ce240b9cf2",
        "colab": {
          "base_uri": "https://localhost:8080/",
          "height": 87
        }
      },
      "source": [
        "a=20\n",
        "b=30\n",
        "print(a>=0 and a<=12)\n",
        "print(b>=25 and b<=52)\n",
        "print(a>=10 or a<=15)\n",
        "print(not a)"
      ],
      "execution_count": 0,
      "outputs": [
        {
          "output_type": "stream",
          "text": [
            "False\n",
            "True\n",
            "True\n",
            "False\n"
          ],
          "name": "stdout"
        }
      ]
    },
    {
      "cell_type": "code",
      "metadata": {
        "id": "Uq-EZMvYX276",
        "colab_type": "code",
        "outputId": "f5e714e2-be6b-41b7-8bc1-18f1cf2b3a6c",
        "colab": {
          "base_uri": "https://localhost:8080/",
          "height": 121
        }
      },
      "source": [
        "a=9\n",
        "b=22\n",
        "print(a>b)\n",
        "print(a<b)\n",
        "print(a<=b)\n",
        "print(a>=b)\n",
        "print(a==b)\n",
        "print(a!=b)"
      ],
      "execution_count": 0,
      "outputs": [
        {
          "output_type": "stream",
          "text": [
            "False\n",
            "True\n",
            "True\n",
            "False\n",
            "False\n",
            "True\n"
          ],
          "name": "stdout"
        }
      ]
    },
    {
      "cell_type": "code",
      "metadata": {
        "id": "8e-Cvqy0Z2-Y",
        "colab_type": "code",
        "outputId": "0c3c7607-0676-487a-e567-90d3be4c558c",
        "colab": {
          "base_uri": "https://localhost:8080/",
          "height": 52
        }
      },
      "source": [
        "str1='abc'\n",
        "print('c' in str1)\n",
        "print('a' not in str1)"
      ],
      "execution_count": 0,
      "outputs": [
        {
          "output_type": "stream",
          "text": [
            "True\n",
            "False\n"
          ],
          "name": "stdout"
        }
      ]
    },
    {
      "cell_type": "markdown",
      "metadata": {
        "id": "nUG6mBDDapL0",
        "colab_type": "text"
      },
      "source": [
        "##Conditional statements\n",
        "#### 1.if\n",
        "#### 2.if-else\n",
        "####3.elif\n",
        "\n"
      ]
    },
    {
      "cell_type": "code",
      "metadata": {
        "id": "hcTbWLjTbOrx",
        "colab_type": "code",
        "outputId": "eeae433c-d44e-4743-e0c8-678a67478a82",
        "colab": {
          "base_uri": "https://localhost:8080/",
          "height": 52
        }
      },
      "source": [
        "a=int(input('enter a number'))\n",
        "if(a%2!=0):\n",
        "  print('odd number')\n",
        "else:\n",
        "  print('even number')"
      ],
      "execution_count": 0,
      "outputs": [
        {
          "output_type": "stream",
          "text": [
            "enter a number45\n",
            "odd number\n"
          ],
          "name": "stdout"
        }
      ]
    },
    {
      "cell_type": "code",
      "metadata": {
        "id": "qStyZK7QfFnd",
        "colab_type": "code",
        "outputId": "503d38f9-8f8a-4dbf-ac5b-3d6b0d0314a3",
        "colab": {
          "base_uri": "https://localhost:8080/",
          "height": 52
        }
      },
      "source": [
        "a=int(input(\"enter a value\"))\n",
        "if a%3==0 and a%5==0:\n",
        "  print(\"it is divisible by 3 and 5\")\n",
        "else:\n",
        "  print('not divisible')"
      ],
      "execution_count": 0,
      "outputs": [
        {
          "output_type": "stream",
          "text": [
            "enter a value8\n",
            "not divisible\n"
          ],
          "name": "stdout"
        }
      ]
    },
    {
      "cell_type": "markdown",
      "metadata": {
        "id": "hXRxi97EgkiY",
        "colab_type": "text"
      },
      "source": [
        "syntax:\n",
        "    if condition:\n",
        "      statements\n",
        "    elif condition2:\n",
        "      statements\n"
      ]
    },
    {
      "cell_type": "markdown",
      "metadata": {
        "id": "NvtAECadbUyS",
        "colab_type": "text"
      },
      "source": [
        "Syntax:\n",
        "    if:\n",
        "      statements\n",
        "\n",
        "\n",
        "    if:\n",
        "      statements\n",
        "\n",
        "    else:\n",
        "      statements"
      ]
    },
    {
      "cell_type": "code",
      "metadata": {
        "id": "5n9cptr6jIB4",
        "colab_type": "code",
        "outputId": "1c344174-7b24-4d7b-8474-9f0b73175d59",
        "colab": {
          "base_uri": "https://localhost:8080/",
          "height": 52
        }
      },
      "source": [
        "a=int(input('enter a value'))\n",
        "if (a%400==0)or(a%4==0 and a%100!=0):\n",
        "  print('leap year')\n",
        "else:\n",
        "  print(\"not  a leap year \")"
      ],
      "execution_count": 0,
      "outputs": [
        {
          "output_type": "stream",
          "text": [
            "enter a value2016\n",
            "leap year\n"
          ],
          "name": "stdout"
        }
      ]
    },
    {
      "cell_type": "code",
      "metadata": {
        "id": "xxDYFgvpjyVl",
        "colab_type": "code",
        "outputId": "b0c3aaf7-b218-4079-ba82-fc52bef7d4a1",
        "colab": {
          "base_uri": "https://localhost:8080/",
          "height": 52
        }
      },
      "source": [
        "n=int(input('enter n value'))\n",
        "if n>0:\n",
        "  print('positive number')\n",
        "elif n<0:\n",
        "  print('negattive number')\n",
        "elif n==0:\n",
        "  print('number is zero')"
      ],
      "execution_count": 0,
      "outputs": [
        {
          "output_type": "stream",
          "text": [
            "enter n value-10\n",
            "negattive number\n"
          ],
          "name": "stdout"
        }
      ]
    }
  ]
}